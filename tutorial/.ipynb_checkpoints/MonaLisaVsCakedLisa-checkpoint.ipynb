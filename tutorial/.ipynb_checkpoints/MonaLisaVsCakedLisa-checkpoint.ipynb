{
 "cells": [
  {
   "cell_type": "markdown",
   "metadata": {},
   "source": [
    "# Mona Lisa vs Caked Lisa\n",
    "### Which one \"looks better\"?\n",
    "\n",
    "In this notebook, we will use a dataset of paintings' from Kaggle to train a Machine Learning models to predict ratings from the paintings from four aesthetic features, namely Brightness, Visual Complexity, Symmetry, and Colorfulness. Trained model will be used to make predictions about the aesthetic appearance of two versions of the Mona Lisa: the original painting and the \"caked\" version."
   ]
  },
  {
   "cell_type": "code",
   "execution_count": 1,
   "metadata": {},
   "outputs": [],
   "source": [
    "# Import required libraries\n",
    "import os\n",
    "import pandas as pd\n",
    "from tqdm.notebook import tqdm\n",
    "from sklearn.linear_model import LinearRegression\n",
    "import matplotlib.pyplot as plt\n",
    "import time"
   ]
  },
  {
   "cell_type": "code",
   "execution_count": 2,
   "metadata": {},
   "outputs": [],
   "source": [
    "# How long will it take to run the whole analysis?\n",
    "startTime = time.time() "
   ]
  },
  {
   "cell_type": "code",
   "execution_count": 3,
   "metadata": {},
   "outputs": [],
   "source": [
    "# Importing the local version for testing. This will be uploaded soon to GitHub and Pypi.\n",
    "os.chdir('/home/giulio/Repositories/pyaesthetics/')\n",
    "import pyaesthetics"
   ]
  },
  {
   "cell_type": "code",
   "execution_count": 4,
   "metadata": {},
   "outputs": [],
   "source": [
    "# Define the path to the different files and folders\n",
    "BASEPATH = '/home/giulio/Repositories/aestheticstest/'\n",
    "DB = BASEPATH + 'Raw/db.csv'\n",
    "PAINTINGS = BASEPATH + 'Raw/paintings/'\n",
    "PROCESSED = BASEPATH + 'Processed/'"
   ]
  },
  {
   "cell_type": "code",
   "execution_count": 5,
   "metadata": {},
   "outputs": [],
   "source": [
    "# Import the paintings' database\n",
    "df = pd.read_csv(DB)"
   ]
  },
  {
   "cell_type": "code",
   "execution_count": 6,
   "metadata": {},
   "outputs": [
    {
     "data": {
      "application/json": {
       "ascii": false,
       "bar_format": null,
       "colour": null,
       "elapsed": 0.017627954483032227,
       "initial": 0,
       "n": 0,
       "ncols": null,
       "nrows": null,
       "postfix": null,
       "prefix": "",
       "rate": null,
       "total": 39,
       "unit": "it",
       "unit_divisor": 1000,
       "unit_scale": false
      },
      "application/vnd.jupyter.widget-view+json": {
       "model_id": "6426e4857d59439db24d76fcf890d28d",
       "version_major": 2,
       "version_minor": 0
      },
      "text/plain": [
       "  0%|          | 0/39 [00:00<?, ?it/s]"
      ]
     },
     "metadata": {},
     "output_type": "display_data"
    }
   ],
   "source": [
    "# Estimate features for the test set\n",
    "res = []\n",
    "for painting in tqdm(df.painting):\n",
    "    rating = int(df[df['painting'] == painting].to_numpy()[0][0:48].mean())\n",
    "    filename = painting.replace(' ','').replace(',','').replace('.','').replace('\\'','') + '.jpg'\n",
    "    results = pyaesthetics.analysis.analyzeImage(PAINTINGS + filename)\n",
    "    res.append([painting, results['brightness_BT709'],results['VC_quadTree'],results['Symmetry_QTD'], results['Colorfulness_RGB'], rating])\n",
    "    \n",
    "trainSet = pd.DataFrame(res, columns=['Painting','Brightness','VisualComplexity','Symmetry','Colorfulness','Rating'])\n",
    "trainSet.to_csv(PROCESSED + 'results.csv')"
   ]
  },
  {
   "cell_type": "code",
   "execution_count": 7,
   "metadata": {},
   "outputs": [],
   "source": [
    "# Train the Regressor\n",
    "y = trainSet['Rating']\n",
    "X = trainSet[['Brightness','VisualComplexity','Symmetry','Colorfulness']]\n",
    "reg = LinearRegression().fit(X, y)"
   ]
  },
  {
   "cell_type": "code",
   "execution_count": 8,
   "metadata": {},
   "outputs": [
    {
     "data": {
      "application/json": {
       "ascii": false,
       "bar_format": null,
       "colour": null,
       "elapsed": 0.017808914184570312,
       "initial": 0,
       "n": 0,
       "ncols": null,
       "nrows": null,
       "postfix": null,
       "prefix": "",
       "rate": null,
       "total": 2,
       "unit": "it",
       "unit_divisor": 1000,
       "unit_scale": false
      },
      "application/vnd.jupyter.widget-view+json": {
       "model_id": "1f6d62f06696410b9a1edb7e7430d9a1",
       "version_major": 2,
       "version_minor": 0
      },
      "text/plain": [
       "  0%|          | 0/2 [00:00<?, ?it/s]"
      ]
     },
     "metadata": {},
     "output_type": "display_data"
    }
   ],
   "source": [
    "# Extract features for the test images\n",
    "testSet = []\n",
    "for painting in tqdm(['Mona Lisa','Caked Lisa']):\n",
    "    filename = painting.replace(' ','').replace(',','').replace('.','').replace('\\'','') + '.jpg'\n",
    "    results = pyaesthetics.analysis.analyzeImage(PAINTINGS + filename)\n",
    "    testSet.append([painting, results['brightness_BT709'],results['VC_quadTree'],results['Symmetry_QTD'], results['Colorfulness_RGB']])\n",
    "\n",
    "testSet = pd.DataFrame(testSet, columns=['Image','Brightness','VisualComplexity','Symmetry','Colorfulness'])"
   ]
  },
  {
   "cell_type": "code",
   "execution_count": 9,
   "metadata": {},
   "outputs": [],
   "source": [
    "# Estimate the Aeshtetic ratigs of test images\n",
    "X = testSet[['Brightness','VisualComplexity','Symmetry','Colorfulness']]\n",
    "labels, predictions = testSet.Image, reg.predict(X)"
   ]
  },
  {
   "cell_type": "code",
   "execution_count": 22,
   "metadata": {},
   "outputs": [
    {
     "data": {
      "image/png": "[encoded data removed]",
      "text/plain": [
       "<Figure size 288x360 with 1 Axes>"
      ]
     },
     "metadata": {
      "needs_background": "light"
     },
     "output_type": "display_data"
    }
   ],
   "source": [
    "# Put results in a Figure\n",
    "fig, ax = plt.subplots(figsize = (4, 5)) \n",
    "ax.spines[\"top\"].set_visible(False)  \n",
    "ax.spines[\"right\"].set_visible(False) \n",
    "\n",
    "plt.bar(labels, predictions, width = 0.4)\n",
    " \n",
    "plt.ylabel(\"Predicted Aesthetic Rating\",fontsize='x-large')\n",
    "plt.title('Predicted Aesthetic Rating\\n for the different versions\\n of the \"Mona Lisa\"\\n', fontsize='x-large', fontweight='bold')\n",
    "\n",
    "plt.ylim(2,2.39)\n",
    "plt.text(x=-0.05, y = 2.28, s=round(predictions[0],2))\n",
    "plt.text(x= 0.95, y = 2.34, s=round(predictions[1],2))\n",
    "plt.tight_layout()\n",
    "plt.savefig('results.png', dpi=300)"
   ]
  },
  {
   "cell_type": "code",
   "execution_count": 11,
   "metadata": {},
   "outputs": [
    {
     "name": "stdout",
     "output_type": "stream",
     "text": [
      "Execution time:1.0 minute(s) and 40 seconds\n"
     ]
    }
   ],
   "source": [
    "executionTime = (time.time() - startTime)\n",
    "print('Execution time:'+ str(executionTime // 60) + ' minute(s) and ' + str(100%60) + ' seconds')"
   ]
  }
 ],
 "metadata": {
  "kernelspec": {
   "display_name": "Python 3",
   "language": "python",
   "name": "python3"
  },
  "language_info": {
   "codemirror_mode": {
    "name": "ipython",
    "version": 3
   },
   "file_extension": ".py",
   "mimetype": "text/x-python",
   "name": "python",
   "nbconvert_exporter": "python",
   "pygments_lexer": "ipython3",
   "version": "3.8.10"
  }
 },
 "nbformat": 4,
 "nbformat_minor": 4
}
